{
 "cells": [
  {
   "cell_type": "code",
   "execution_count": 6,
   "id": "49bd84b2",
   "metadata": {},
   "outputs": [
    {
     "name": "stdout",
     "output_type": "stream",
     "text": [
      "2\n",
      "-1\n",
      "Age is not valid, setting age to 0.\n",
      "You are young.\n",
      "You are young.\n",
      "\n",
      "2\n",
      "You are young.\n",
      "You are young.\n",
      "\n"
     ]
    }
   ],
   "source": [
    "class Person:\n",
    "    def __init__(self, initialAge):\n",
    "        if initialAge<0:\n",
    "            self.age = 0\n",
    "            print('Age is not valid, setting age to 0.')\n",
    "        else:\n",
    "            self.age = initialAge\n",
    "            \n",
    "    def yearPasses(self):\n",
    "        self.age += 1\n",
    "        \n",
    "    def amIOld(self):\n",
    "        if self.age<13:\n",
    "            print('You are young.')\n",
    "        elif 13 <= self.age <18:\n",
    "            print('You are a teenager.')3\n",
    "            \n",
    "        else:\n",
    "            print('You are old.')\n",
    "            \n",
    "            \n",
    "            \n",
    "T = int(input())\n",
    "\n",
    "for _ in range(T):\n",
    "    age = int(input())\n",
    "    p = Person(age)\n",
    "    p.amIOld()\n",
    "    for _ in range(1):\n",
    "        p.yearPasses()\n",
    "        p.amIOld()\n",
    "    print(\"\")\n",
    "    \n",
    "    \n",
    "    "
   ]
  },
  {
   "cell_type": "code",
   "execution_count": 7,
   "id": "603ae9c7",
   "metadata": {},
   "outputs": [
    {
     "name": "stdout",
     "output_type": "stream",
     "text": [
      "4\n",
      "-1\n",
      "Age is not valid, setting age to 0.\n",
      "You are young.\n",
      "You are young.\n",
      "\n",
      "3\n",
      "You are young.\n",
      "You are young.\n",
      "\n",
      "2\n",
      "You are young.\n",
      "You are young.\n",
      "\n",
      "1\n",
      "You are young.\n",
      "You are young.\n",
      "\n"
     ]
    }
   ],
   "source": [
    "class Person:\n",
    "    def __init__(self,initialAge):\n",
    "        # Add some more code to run some checks on initialAge\n",
    "        if initialAge<0:\n",
    "            self.age=0\n",
    "            print(\"Age is not valid, setting age to 0.\")\n",
    "        else:\n",
    "            self.age = initialAge\n",
    "            \n",
    "    def amIOld(self):\n",
    "        # Do some computations in here and print out the correct statement to the console\n",
    "        if self.age<13:\n",
    "            print(\"You are young.\")\n",
    "        elif 13 <= self.age < 18:\n",
    "            print(\"You are a teenager.\")\n",
    "        else:\n",
    "            print(\"You are old.\")\n",
    "    def yearPasses(self):\n",
    "        # Increment the age of the person in here\n",
    "        self.age += 1\n",
    "\n",
    "t = int(input())\n",
    "for i in range(0, t):\n",
    "    age = int(input())         \n",
    "    p = Person(age)  \n",
    "    p.amIOld()\n",
    "    for j in range(0, 3):\n",
    "        p.yearPasses()       \n",
    "    p.amIOld()\n",
    "    print(\"\")"
   ]
  }
 ],
 "metadata": {
  "kernelspec": {
   "display_name": "Python 3 (ipykernel)",
   "language": "python",
   "name": "python3"
  },
  "language_info": {
   "codemirror_mode": {
    "name": "ipython",
    "version": 3
   },
   "file_extension": ".py",
   "mimetype": "text/x-python",
   "name": "python",
   "nbconvert_exporter": "python",
   "pygments_lexer": "ipython3",
   "version": "3.8.12"
  }
 },
 "nbformat": 4,
 "nbformat_minor": 5
}
