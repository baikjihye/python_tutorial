{
 "cells": [
  {
   "cell_type": "code",
   "execution_count": null,
   "id": "e40577d3",
   "metadata": {},
   "outputs": [
    {
     "name": "stdout",
     "output_type": "stream",
     "text": [
      "2\n",
      "sam 001\n",
      "tom 002\n",
      "sam\n",
      "sam=001\n",
      "tom\n",
      "tom=002\n",
      "harrt\n",
      "Not found\n"
     ]
    }
   ],
   "source": [
    "n = int(input().strip())\n",
    "\n",
    "phone_book = {}\n",
    "\n",
    "for _ in range(n):\n",
    "    name, phone_number = input().strip().split()\n",
    "    phone_book[name] = phone_number\n",
    "    \n",
    "while True:\n",
    "    try:\n",
    "        query = input().strip()\n",
    "        if query in phone_book:\n",
    "            print(f\"{query}={phone_book[query]}\")\n",
    "        else:\n",
    "            print(\"Not found\")\n",
    "    except EOFError:\n",
    "        break\n",
    "    "
   ]
  }
 ],
 "metadata": {
  "kernelspec": {
   "display_name": "Python 3 (ipykernel)",
   "language": "python",
   "name": "python3"
  },
  "language_info": {
   "codemirror_mode": {
    "name": "ipython",
    "version": 3
   },
   "file_extension": ".py",
   "mimetype": "text/x-python",
   "name": "python",
   "nbconvert_exporter": "python",
   "pygments_lexer": "ipython3",
   "version": "3.8.12"
  }
 },
 "nbformat": 4,
 "nbformat_minor": 5
}
